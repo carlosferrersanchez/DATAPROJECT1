{
 "cells": [
  {
   "cell_type": "code",
   "execution_count": null,
   "metadata": {},
   "outputs": [],
   "source": [
    "!pip install requests pandas pymongo"
   ]
  },
  {
   "cell_type": "code",
   "execution_count": null,
   "metadata": {},
   "outputs": [],
   "source": [
    "import requests\n",
    "from pymongo import MongoClient\n",
    "import pandas as pd\n",
    "\n",
    "viajes = pd.read_csv('viajes.csv')\n",
    "print(viajes)\n",
    "plazas = pd.read_csv('plazas.csv')\n",
    "print(plazas)\n",
    "personas = pd.read_csv('personas.csv')\n",
    "print(personas)\n",
    "lista_espera = pd.read_csv('lista_espera.csv')\n",
    "print(lista_espera)"
   ]
  }
 ],
 "metadata": {
  "language_info": {
   "name": "python"
  }
 },
 "nbformat": 4,
 "nbformat_minor": 2
}
