{
 "cells": [
  {
   "cell_type": "code",
   "execution_count": null,
   "metadata": {},
   "outputs": [],
   "source": [
    "import requests\n",
    "from pymongo import MongoClient\n",
    "import pandas as pd\n",
    "import matplotlib.pyplot as plt\n",
    "import seaborn as sns\n",
    "\n",
    "viajes = pd.read_csv('viajes.csv')\n",
    "print(viajes)\n",
    "plazas = pd.read_csv('plazas.csv')\n",
    "print(plazas)\n",
    "personas = pd.read_csv('personas.csv')\n",
    "print(personas)\n",
    "lista_espera = pd.read_csv('lista_espera.csv')\n",
    "print(lista_espera)"
   ]
  },
  {
   "cell_type": "code",
   "execution_count": 1,
   "metadata": {},
   "outputs": [
    {
     "ename": "NameError",
     "evalue": "name 'pd' is not defined",
     "output_type": "error",
     "traceback": [
      "\u001b[1;31m---------------------------------------------------------------------------\u001b[0m",
      "\u001b[1;31mNameError\u001b[0m                                 Traceback (most recent call last)",
      "Cell \u001b[1;32mIn[1], line 2\u001b[0m\n\u001b[0;32m      1\u001b[0m \u001b[38;5;66;03m# Combina los datos de personas y viajes usando las columnas 'id_persona' y 'id_viaje'\u001b[39;00m\n\u001b[1;32m----> 2\u001b[0m data \u001b[38;5;241m=\u001b[39m \u001b[43mpd\u001b[49m\u001b[38;5;241m.\u001b[39mmerge(personas, viajes, how\u001b[38;5;241m=\u001b[39m\u001b[38;5;124m'\u001b[39m\u001b[38;5;124mleft\u001b[39m\u001b[38;5;124m'\u001b[39m, left_on\u001b[38;5;241m=\u001b[39m\u001b[38;5;124m'\u001b[39m\u001b[38;5;124mid_persona\u001b[39m\u001b[38;5;124m'\u001b[39m, right_on\u001b[38;5;241m=\u001b[39m\u001b[38;5;124m'\u001b[39m\u001b[38;5;124mid_viaje\u001b[39m\u001b[38;5;124m'\u001b[39m)\n\u001b[0;32m      4\u001b[0m \u001b[38;5;66;03m# Filtra las personas con y sin viaje asignado\u001b[39;00m\n\u001b[0;32m      5\u001b[0m con_viaje \u001b[38;5;241m=\u001b[39m data[data[\u001b[38;5;124m'\u001b[39m\u001b[38;5;124mviaje_asignado\u001b[39m\u001b[38;5;124m'\u001b[39m] \u001b[38;5;241m==\u001b[39m \u001b[38;5;124m'\u001b[39m\u001b[38;5;124mSi\u001b[39m\u001b[38;5;124m'\u001b[39m]\n",
      "\u001b[1;31mNameError\u001b[0m: name 'pd' is not defined"
     ]
    }
   ],
   "source": [
    "# Combina los datos de personas y viajes usando las columnas 'id_persona' y 'id_viaje'\n",
    "data = pd.merge(personas, viajes, how='left', left_on='id_persona', right_on='id_viaje')\n",
    "\n",
    "# Filtra las personas con y sin viaje asignado\n",
    "con_viaje = data[data['viaje_asignado'] == 'Si']\n",
    "sin_viaje = data[data['viaje_asignado'] == 'No']\n",
    "\n",
    "# Gráfico de barras para comparar la renta media\n",
    "plt.figure(figsize=(10, 6))\n",
    "sns.set(style=\"whitegrid\")\n",
    "sns.barplot(x='viaje_asignado', y='Renta', data=data, estimator=pd.Series.median, errorbar=None)\n",
    "\n",
    "# Añade etiquetas y título\n",
    "plt.title('Comparación de la Renta Media entre Personas con y sin Viaje Asignado')\n",
    "plt.xlabel('Viaje Asignado')\n",
    "plt.ylabel('Renta Media')\n",
    "\n",
    "# Muestra el gráfico\n",
    "plt.show()"
   ]
  },
  {
   "cell_type": "code",
   "execution_count": null,
   "metadata": {},
   "outputs": [],
   "source": [
    "# Combina los datos de personas y viajes usando la columna 'ID_persona' y 'ID_viaje'\n",
    "data = pd.merge(personas, viajes, how='left', left_on='id_persona', right_on='id_viaje')\n",
    "\n",
    "# Filtra las personas con y sin viaje asignado\n",
    "con_viaje = data[data['viaje_asignado'] == 'Si']\n",
    "sin_viaje = data[data['viaje_asignado'] == 'No']\n",
    "\n",
    "# Gráfico de caja para comparar la distribución de edades\n",
    "plt.figure(figsize=(12, 8))\n",
    "sns.set(style=\"whitegrid\")\n",
    "sns.boxplot(x='viaje_asignado', y='Edad', data=data)\n",
    "\n",
    "# Añade etiquetas y título\n",
    "plt.title('Comparación de Edades entre Personas con y sin Viaje Asignado')\n",
    "plt.xlabel('Viaje Asignado')\n",
    "plt.ylabel('Edad')\n",
    "\n",
    "# Muestra el gráfico\n",
    "plt.show()"
   ]
  },
  {
   "cell_type": "code",
   "execution_count": 2,
   "metadata": {},
   "outputs": [
    {
     "ename": "NameError",
     "evalue": "name 'pd' is not defined",
     "output_type": "error",
     "traceback": [
      "\u001b[1;31m---------------------------------------------------------------------------\u001b[0m",
      "\u001b[1;31mNameError\u001b[0m                                 Traceback (most recent call last)",
      "Cell \u001b[1;32mIn[2], line 1\u001b[0m\n\u001b[1;32m----> 1\u001b[0m data \u001b[38;5;241m=\u001b[39m \u001b[43mpd\u001b[49m\u001b[38;5;241m.\u001b[39mmerge(personas, viajes, how\u001b[38;5;241m=\u001b[39m\u001b[38;5;124m'\u001b[39m\u001b[38;5;124mleft\u001b[39m\u001b[38;5;124m'\u001b[39m, left_on\u001b[38;5;241m=\u001b[39m\u001b[38;5;124m'\u001b[39m\u001b[38;5;124mid_persona\u001b[39m\u001b[38;5;124m'\u001b[39m, right_on\u001b[38;5;241m=\u001b[39m\u001b[38;5;124m'\u001b[39m\u001b[38;5;124mid_persona\u001b[39m\u001b[38;5;124m'\u001b[39m)\n\u001b[0;32m      3\u001b[0m \u001b[38;5;66;03m# Filtrar las personas con viaje asignado\u001b[39;00m\n\u001b[0;32m      4\u001b[0m con_viaje \u001b[38;5;241m=\u001b[39m data[data[\u001b[38;5;124m'\u001b[39m\u001b[38;5;124mviaje_asignado\u001b[39m\u001b[38;5;124m'\u001b[39m] \u001b[38;5;241m==\u001b[39m \u001b[38;5;124m'\u001b[39m\u001b[38;5;124mSi\u001b[39m\u001b[38;5;124m'\u001b[39m]\n",
      "\u001b[1;31mNameError\u001b[0m: name 'pd' is not defined"
     ]
    }
   ],
   "source": [
    "data = pd.merge(personas, viajes, how='left', left_on='id_persona', right_on='id_persona')\n",
    "\n",
    "# Filtrar las personas con viaje asignado\n",
    "con_viaje = data[data['viaje_asignado'] == 'Si']\n",
    "\n",
    "# Contar el número de personas en cada categoría\n",
    "conteo_preferencia_1 = con_viaje['tipo_exp'].eq(con_viaje['Preferencia_1']).sum()\n",
    "conteo_preferencia_2 = con_viaje['tipo_exp'].eq(con_viaje['Preferencia_2']).sum()\n",
    "conteo_otro = len(con_viaje) - conteo_preferencia_1 - conteo_preferencia_2\n",
    "\n",
    "# Calcular el porcentaje de personas cuya ciudad asignada pertenece a su Preferencia_1\n",
    "porcentaje_pref_1 = (conteo_preferencia_1 / len(con_viaje)) * 100\n",
    "\n",
    "# Calcular el porcentaje de personas cuya ciudad asignada pertenece a su Preferencia_2\n",
    "porcentaje_pref_2 = (conteo_preferencia_2 / len(con_viaje)) * 100\n",
    "\n",
    "# Calcular el porcentaje de personas cuya ciudad asignada no pertenece ni a Preferencia_1 ni a Preferencia_2\n",
    "porcentaje_otro = (conteo_otro / len(con_viaje)) * 100\n",
    "\n",
    "# Imprimir estadísticas\n",
    "print(f\"Porcentaje de personas que han podido ir a su primera preferencia: {porcentaje_pref_1:.2f}%\")\n",
    "print(f\"Porcentaje de personas que han podido ir a su segunda preferencia: {porcentaje_pref_2:.2f}%\")\n",
    "print(f\"Porcentaje de personas que se les ha asignado otro destino: {porcentaje_otro:.2f}%\")\n",
    "\n",
    "# Crear un gráfico de barras\n",
    "plt.figure(figsize=(10, 6))\n",
    "sns.barplot(x=['Preferencia_1', 'Preferencia_2', 'Otro'],\n",
    "            y=[porcentaje_pref_1, porcentaje_pref_2, porcentaje_otro])\n",
    "\n",
    "# Añadir etiquetas y título\n",
    "plt.title('Porcentaje de Personas con Viaje Asignado según Preferencias')\n",
    "plt.xlabel('Categoría')\n",
    "plt.ylabel('Porcentaje')\n",
    "\n",
    "# Mostrar el gráfico\n",
    "plt.show()"
   ]
  },
  {
   "cell_type": "code",
   "execution_count": null,
   "metadata": {},
   "outputs": [],
   "source": [
    "data = pd.merge(personas, viajes, how='left', left_on='id_persona', right_on='id_persona')\n",
    "\n",
    "# Crear una nueva columna para identificar si la persona tiene discapacidad o no\n",
    "data['Tiene_Discapacidad'] = data['Discapacidad'] > 0\n",
    "\n",
    "# Filtrar personas con discapacidad\n",
    "con_discapacidad = data[data['Tiene_Discapacidad']]\n",
    "\n",
    "# Filtrar personas sin discapacidad\n",
    "sin_discapacidad = data[~data['Tiene_Discapacidad']]\n",
    "\n",
    "# Filtrar personas con viaje asignado\n",
    "con_viaje = data[data['viaje_asignado'] == 'Si']\n",
    "\n",
    "# Calcular porcentajes\n",
    "porcentaje_discapacidad_con_viaje = (len(con_discapacidad[con_discapacidad['viaje_asignado'] == 'Si']) / len(con_discapacidad)) * 100\n",
    "porcentaje_discapacidad_sin_viaje = (len(con_discapacidad[con_discapacidad['viaje_asignado'] == 'No']) / len(con_discapacidad)) * 100\n",
    "\n",
    "porcentaje_sin_discapacidad_con_viaje = (len(sin_discapacidad[sin_discapacidad['viaje_asignado'] == 'Si']) / len(sin_discapacidad)) * 100\n",
    "\n",
    "# Gráfico de barras para ilustrar el porcentaje de personas con discapacidad que viajan y que no viajan\n",
    "plt.figure(figsize=(14, 8))\n",
    "\n",
    "# Gráfico de barras para ilustrar el porcentaje de personas con discapacidad que viajan y que no viajan\n",
    "plt.subplot(1, 3, 1)\n",
    "sns.barplot(x=['Viajan', 'No Viajan'],\n",
    "            y=[porcentaje_discapacidad_con_viaje, porcentaje_discapacidad_sin_viaje],\n",
    "            palette=['pink', 'orange'])\n",
    "plt.title('Porcentaje de Personas con Discapacidad que Viajan y No Viajan')\n",
    "plt.ylabel('Porcentaje')\n",
    "\n",
    "# Gráfico de tarta para ilustrar la proporción de personas con y sin discapacidad que viajan y no viajan\n",
    "plt.subplot(1, 3, 3)\n",
    "plt.pie([len(con_discapacidad_con_viaje), len(sin_discapacidad_con_viaje)], labels=['Con Discapacidad', 'Sin Discapacidad'], autopct='%1.1f%%', colors=['lightblue', 'lightgreen'])\n",
    "plt.title('Proporción de Personas con y sin Discapacidad que Viajan')\n",
    "\n",
    "# Mostrar los gráficos\n",
    "plt.show()"
   ]
  }
 ],
 "metadata": {
  "kernelspec": {
   "display_name": "Python 3",
   "language": "python",
   "name": "python3"
  },
  "language_info": {
   "codemirror_mode": {
    "name": "ipython",
    "version": 3
   },
   "file_extension": ".py",
   "mimetype": "text/x-python",
   "name": "python",
   "nbconvert_exporter": "python",
   "pygments_lexer": "ipython3",
   "version": "3.11.7"
  }
 },
 "nbformat": 4,
 "nbformat_minor": 2
}
