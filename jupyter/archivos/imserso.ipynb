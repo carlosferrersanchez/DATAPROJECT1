{
 "cells": [
  {
   "cell_type": "code",
   "execution_count": null,
   "metadata": {},
   "outputs": [],
   "source": [
    "!pip install requests pandas pymongo seaborn matplotlib pyplot"
   ]
  },
  {
   "cell_type": "code",
   "execution_count": null,
   "metadata": {},
   "outputs": [],
   "source": [
    "import requests\n",
    "from pymongo import MongoClient\n",
    "import pandas as pd\n",
    "import matplotlib.pyplot as plt\n",
    "import seaborn as sns\n",
    "\n",
    "viajes = pd.read_csv('viajes.csv')\n",
    "print(viajes)\n",
    "plazas = pd.read_csv('plazas.csv')\n",
    "print(plazas)\n",
    "personas = pd.read_csv('personas.csv')\n",
    "print(personas)\n",
    "lista_espera = pd.read_csv('lista_espera.csv')\n",
    "print(lista_espera)"
   ]
  },
  {
   "cell_type": "code",
   "execution_count": null,
   "metadata": {},
   "outputs": [],
   "source": [
    "# Combina los datos de personas y viajes usando la columna 'ID' como clave primaria\n",
    "data = pd.merge(personas, viajes, how='left', left_on='ID', right_on='ID')\n",
    "\n",
    "# Filtra las personas con y sin viaje asignado\n",
    "con_viaje = data[data['Viaje_asignado'] == 'Si']\n",
    "sin_viaje = data[data['Viaje_asignado'] == 'No']\n",
    "\n",
    "# Gráfico de barras para comparar la renta media\n",
    "plt.figure(figsize=(10, 6))\n",
    "sns.set(style=\"whitegrid\")\n",
    "sns.barplot(x='Viaje_asignado', y='Renta', data=data, estimator=pd.Series.median, ci=None)\n",
    "\n",
    "# Añade etiquetas y título\n",
    "plt.title('Comparación de la Renta Media entre Personas con y sin Viaje Asignado')\n",
    "plt.xlabel('Viaje Asignado')\n",
    "plt.ylabel('Renta Media')\n",
    "\n",
    "# Muestra el gráfico\n",
    "plt.show()"
   ]
  }
 ],
 "metadata": {
  "language_info": {
   "name": "python"
  }
 },
 "nbformat": 4,
 "nbformat_minor": 2
}
